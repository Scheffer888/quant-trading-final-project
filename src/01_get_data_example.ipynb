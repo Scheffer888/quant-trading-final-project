{
 "cells": [
  {
   "cell_type": "code",
   "execution_count": null,
   "metadata": {},
   "outputs": [],
   "source": [
    "# Standard library imports\n",
    "import warnings\n",
    "from pathlib import Path\n",
    "\n",
    "# Third-party imports\n",
    "import pandas as pd\n",
    "import polars as pl\n",
    "\n",
    "# Suppress warnings\n",
    "warnings.filterwarnings(\"ignore\", category=FutureWarning)\n",
    "warnings.filterwarnings(\"ignore\")\n",
    "\n",
    "from settings import config\n",
    "from pull_taq import get_taq_nbbo, get_taq_wct"
   ]
  },
  {
   "cell_type": "code",
   "execution_count": null,
   "metadata": {},
   "outputs": [],
   "source": [
    "# Change default pandas display options\n",
    "\n",
    "pd.options.display.max_columns = 30\n",
    "pd.options.display.max_colwidth = 200\n",
    "pd.set_option('display.float_format', lambda x: '%.4f' % x)\n",
    "pd.set_option('display.expand_frame_repr', False)\n",
    "\n",
    "# Global variables\n",
    "RAW_DATA_DIR = Path(config(\"RAW_DATA_DIR\"))\n",
    "RAW_DATA_DIR.mkdir(parents=True, exist_ok=True)\n",
    "OUTPUT_DIR = Path(config(\"OUTPUT_DIR\"))\n",
    "OUTPUT_DIR.mkdir(parents=True, exist_ok=True)\n",
    "WRDS_USERNAME = config(\"WRDS_USERNAME\")\n",
    "\n",
    "from pull_taq import get_taq_nbbo, get_taq_wct"
   ]
  },
  {
   "cell_type": "code",
   "execution_count": null,
   "metadata": {},
   "outputs": [],
   "source": [
    "quotes = get_taq_nbbo(('SPY'), date='2024-03-07', use_bars=False, use_polars=True)\n",
    "quotes"
   ]
  },
  {
   "cell_type": "code",
   "execution_count": null,
   "metadata": {},
   "outputs": [],
   "source": [
    "trades = get_taq_wct(('SPY'), date='2024-03-07', use_polars=True)\n",
    "trades"
   ]
  },
  {
   "cell_type": "code",
   "execution_count": null,
   "metadata": {},
   "outputs": [],
   "source": []
  }
 ],
 "metadata": {
  "language_info": {
   "name": "python"
  }
 },
 "nbformat": 4,
 "nbformat_minor": 2
}

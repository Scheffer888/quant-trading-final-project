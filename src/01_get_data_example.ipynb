{
 "cells": [
  {
   "cell_type": "code",
   "execution_count": null,
   "metadata": {},
   "outputs": [],
   "source": [
    "# Standard library imports\n",
    "import warnings\n",
    "from pathlib import Path\n",
    "\n",
    "# Third-party imports\n",
    "import pandas as pd\n",
    "import polars as pl\n",
    "from polars import col, when\n",
    "\n",
    "# Suppress warnings\n",
    "warnings.filterwarnings(\"ignore\", category=FutureWarning)\n",
    "warnings.filterwarnings(\"ignore\")\n",
    "\n",
    "from settings import config\n",
    "from pull_taq import get_taq_nbbo, get_taq_wct\n",
    "from transform_taq import extract_features_taq"
   ]
  },
  {
   "cell_type": "code",
   "execution_count": null,
   "metadata": {},
   "outputs": [],
   "source": [
    "# Change default pandas display options\n",
    "\n",
    "pd.options.display.max_columns = 30\n",
    "pd.options.display.max_colwidth = 200\n",
    "pd.set_option('display.float_format', lambda x: '%.4f' % x)\n",
    "pd.set_option('display.expand_frame_repr', False)\n",
    "\n",
    "# Global variables\n",
    "RAW_DATA_DIR = Path(config(\"RAW_DATA_DIR\"))\n",
    "RAW_DATA_DIR.mkdir(parents=True, exist_ok=True)\n",
    "OUTPUT_DIR = Path(config(\"OUTPUT_DIR\"))\n",
    "OUTPUT_DIR.mkdir(parents=True, exist_ok=True)\n",
    "WRDS_USERNAME = config(\"WRDS_USERNAME\")\n",
    "\n",
    "from pull_taq import get_taq_nbbo, get_taq_wct"
   ]
  },
  {
   "cell_type": "markdown",
   "metadata": {},
   "source": [
    "## 1. Load TAQ data"
   ]
  },
  {
   "cell_type": "markdown",
   "metadata": {},
   "source": [
    "### 1.1. Quotes Data\n",
    "\n",
    "Pull quotes data from TAQ database (NBBO)\n",
    "- Display first 5 rows to confirm data is loaded correctly"
   ]
  },
  {
   "cell_type": "code",
   "execution_count": null,
   "metadata": {},
   "outputs": [],
   "source": [
    "quotes = get_taq_nbbo(('SPY'), date='2024-03-07', use_bars=False)\n",
    "display(quotes.head())"
   ]
  },
  {
   "cell_type": "markdown",
   "metadata": {},
   "source": [
    "### 1.2. Trades Data\n",
    "\n",
    "Pull quotes data from Trades database (WCT)\n",
    "- Display first 5 rows to confirm data is loaded correctly"
   ]
  },
  {
   "cell_type": "code",
   "execution_count": null,
   "metadata": {},
   "outputs": [],
   "source": [
    "trades = get_taq_wct(('SPY'), date='2024-03-07')\n",
    "display(trades.head())"
   ]
  },
  {
   "cell_type": "markdown",
   "metadata": {},
   "source": [
    "## 2. Data Preparation & feature Engineering"
   ]
  },
  {
   "cell_type": "markdown",
   "metadata": {},
   "source": [
    "#### 2.1. Merge Quotes and Trades\n",
    "\n",
    "Asof-join of quotes and trades dataframes\n",
    "- Match each trade with the most recent quote, keeping only rows with actual trades (left join) (that naturally discards pure-quote timestamps that lack trades.)\n",
    "- Display first 5 rows to confirm data is loaded correctly"
   ]
  },
  {
   "cell_type": "code",
   "execution_count": null,
   "metadata": {},
   "outputs": [],
   "source": [
    "# Asof-join on trade_ts (left side) to quote_ts (right side).\n",
    "df = pd.merge_asof(\n",
    "    trades.sort_values(\"time_trade\"),\n",
    "    quotes.sort_values(\"time_quote\")[[\"time_quote\", \"best_bid\", \"best_bidsizeshares\", \"best_ask\", \"best_asksizeshares\"]],\n",
    "    left_on=\"time_trade\",\n",
    "    right_on=\"time_quote\",\n",
    "    direction=\"backward\"  # Ensures we take the most recent quote before the trade\n",
    ")\n",
    "df = df.drop(columns=\"time_quote\")\n",
    "display(df.head())\n"
   ]
  },
  {
   "cell_type": "markdown",
   "metadata": {},
   "source": [
    "### 2.2. Feature Engineering\n",
    "\n",
    "Extracted features:\n",
    "- **Duration since last trade**: Time since the last trade.\n",
    "- **Mid price**: Average of the best bid and ask prices.\n",
    "- **Spread**: Difference between the best ask and bid prices.\n",
    "- **Size imbalance**: Difference between the best ask and bid sizes divided by their sum.\n",
    "- **Trade direction (sign)**: +1 for buy, -1 for sell.\n",
    "- **Next mid price**: Mid price of the next quote.\n",
    "- **Next mid-price change**: Change in mid price from the current to the next quote."
   ]
  },
  {
   "cell_type": "code",
   "execution_count": null,
   "metadata": {},
   "outputs": [],
   "source": [
    "df = extract_features_taq(df)\n",
    "df.head()"
   ]
  },
  {
   "cell_type": "markdown",
   "metadata": {},
   "source": [
    "## 3. Analysis\n",
    "\n"
   ]
  }
 ],
 "metadata": {
  "language_info": {
   "name": "python"
  }
 },
 "nbformat": 4,
 "nbformat_minor": 2
}

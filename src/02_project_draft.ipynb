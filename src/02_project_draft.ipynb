{
 "cells": [
  {
   "cell_type": "markdown",
   "metadata": {},
   "source": [
    "Final Project: Enhanced Sign Trading Strategy on High Frequency Data\n",
    "\n",
    "James Chen (12449658), Will Duckett (12446921), Eduardo Scheffer (12449668), Coby Tran (12449760)"
   ]
  },
  {
   "cell_type": "markdown",
   "metadata": {},
   "source": [
    "### Abstract\n",
    "This project explores a Sign Trading Strategy that leverages Order Flow Imbalance (OFI) to predict short-term price movements in high-frequency markets. We classify trades into BUY and SELL transactions based on whether they match the standing bid or offer price and analyze their clustering behavior.\n",
    "\n",
    "By measuring order flow imbalances, we identify periods of persistent buying or selling pressure, allowing us to identify trade opportunities. Our approach capitalizes on the fact that trade events tend to cluster, meaning past BUY trades influence future BUY trades, and vice versa."
   ]
  },
  {
   "cell_type": "markdown",
   "metadata": {},
   "source": [
    "### Introduction\n",
    "The volume of Tick-By-Tick (TBT) data has surged in recent years, with many contracts exceeding 10 million ticks per trading day. This increase provides deeper insight into order flow and reveals systematic trade clustering effects that influence short-term price movements. One key observation is that trades are not independent events; instead, BUY and SELL trades cluster together, creating directional momentum in the market.\n",
    "\n",
    "This project develops a Sign Trading Strategy that utilizes Order Flow Imbalance (OFI) to detect and exploit these trade clustering patterns. A SELL trade occurs when a market sell order matches the highest bid price, while a BUY trade occurs when a market buy order matches the lowest ask price. When there is an imbalance in the number of BUY versus SELL trades over a given time window, directional market pressure emerges. BUY trade dominance signals upward pressure, while SELL trade dominance signals downward pressure.\n",
    "\n",
    "OFI quantifies this imbalance, offering a real-time signal for market direction. Since past BUY trades influence future BUY and SELL trades, OFI helps traders anticipate short-term price movements. The rise of high-frequency algorithmic trading has made order flow analysis essential, as market makers adjust bid-ask spreads based on trade clustering, arbitrageurs exploit pricing inefficiencies, and speculators capitalize on directional pressure.\n",
    "\n",
    "By integrating Sign Trading with OFI, this strategy systematically identifies and responds to trade clustering effects, providing a structured framework to capture short-term market inefficiencies."
   ]
  },
  {
   "cell_type": "markdown",
   "metadata": {},
   "source": [
    "### Data\n",
    "This project focuses on high-frequency trading, requiring highly liquid assets to ensure efficient trade execution and minimize slippage. Liquidity is critical in strategies relying on Order Flow Imbalance (OFI), as it allows for accurate tracking of trade clustering effects without market impact distorting signals.\n",
    "\n",
    "To capture a range of market conditions, we will select equities from sectors with varying volatilities, allowing us to assess the robustness of our strategy across different levels of market activity. The dataset will be sourced from the WRDS Trade and Quote (TAQ) database, which provides granular tick-by-tick trade and order book data.\n",
    "\n",
    "The specific equities for analysis have not yet been determined, but selection criteria will prioritize high-volume stocks with active limit order books, ensuring reliable trade execution data. This dataset will allow us to systematically test the effectiveness of Sign Trading with OFI."
   ]
  },
  {
   "cell_type": "code",
   "execution_count": null,
   "metadata": {},
   "outputs": [],
   "source": [
    "import pull_taq\n",
    "import numpy as np\n",
    "import pandas as pd\n",
    "import matplotlib.pyplot as plt"
   ]
  },
  {
   "cell_type": "code",
   "execution_count": null,
   "metadata": {},
   "outputs": [],
   "source": [
    "NTLS = pd.read_csv('NBBO/28082.csv')\n",
    "GLP = pd.read_csv('NBBO/27667.csv')\n",
    "IEF = pd.read_csv('NBBO/23870.csv')\n",
    "ITUB = pd.read_csv('NBBO/23444.csv')\n",
    "IIT = pd.read_csv('NBBO/14081.csv')"
   ]
  },
  {
   "cell_type": "code",
   "execution_count": null,
   "metadata": {},
   "outputs": [],
   "source": [
    "import pandas as pd\n",
    "import numpy as np\n",
    "import matplotlib.pyplot as plt"
   ]
  },
  {
   "cell_type": "code",
   "execution_count": null,
   "metadata": {},
   "outputs": [],
   "source": [
    "NTLS"
   ]
  },
  {
   "cell_type": "code",
   "execution_count": null,
   "metadata": {},
   "outputs": [],
   "source": [
    "NTLS['Timestamp'] = pd.to_datetime(NTLS['Date'].astype(str) + ' ' + NTLS['Time'].astype(str))\n",
    "NTLS.set_index('Timestamp', inplace=True)\n",
    "\n",
    "market_open = pd.to_datetime(\"09:30:00\").time()\n",
    "market_close = pd.to_datetime(\"16:00:00\").time()\n",
    "NTLS = NTLS[(NTLS.index.time >= market_open) & (NTLS.index.time <= market_close)]\n",
    "\n",
    "NTLS = NTLS[~NTLS.index.dayofweek.isin([5, 6])]\n",
    "\n",
    "NTLS['Mid Price'] = (NTLS['Bid Price'] + NTLS['Ask Price']) / 2\n",
    "NTLS['Size Weighted Price'] = (NTLS['Bid Price'] * NTLS['Ask Size'] + NTLS['Ask Price'] * NTLS['Bid Size']) / (NTLS['Ask Size'] + NTLS['Bid Size'])\n",
    "\n",
    "NTLS['Market Index'] = range(len(NTLS))\n",
    "NTLS.reset_index(inplace=True)\n",
    "\n",
    "def format_xaxis(ax):\n",
    "    tick_interval = 1200\n",
    "    tick_positions = NTLS['Market Index'][::tick_interval]\n",
    "    tick_labels = NTLS['Timestamp'][::tick_interval].dt.strftime('%Y-%m-%d %H:%M')\n",
    "    ax.set_xticks(tick_positions)\n",
    "    ax.set_xticklabels(tick_labels)\n",
    "    plt.xticks(rotation=45)\n",
    "\n",
    "fig, ax = plt.subplots(figsize=(12, 5))\n",
    "ax.plot(NTLS.index, NTLS['Bid-Ask Spread'], label='Bid-Ask Spread', color='blue', alpha=0.6)\n",
    "ax.set_xlabel('Time')\n",
    "ax.set_ylabel('Spread ($)')\n",
    "ax.set_title('Bid-Ask Spread Over Time (Market Hours Only)')\n",
    "format_xaxis(ax)\n",
    "ax.legend()\n",
    "plt.show()\n",
    "\n",
    "fig, ax = plt.subplots(figsize=(12, 5))\n",
    "ax.plot(NTLS.index, NTLS['Bid Size'], label='Bid Size', color='green', alpha=0.6)\n",
    "ax.plot(NTLS.index, NTLS['Ask Size'], label='Ask Size', color='red', alpha=0.6)\n",
    "ax.set_xlabel('Time')\n",
    "ax.set_ylabel('Size')\n",
    "ax.set_title('Market Depth Over Time (Market Hours Only)')\n",
    "format_xaxis(ax)\n",
    "ax.legend()\n",
    "plt.show()\n",
    "\n",
    "fig, ax = plt.subplots(figsize=(12, 5))\n",
    "ax.plot(NTLS.index, NTLS['Mid Price'], label='Mid Price', color='purple', alpha=0.6)\n",
    "ax.set_xlabel('Time')\n",
    "ax.set_ylabel('Mid Price ($)')\n",
    "ax.set_title('Mid Price Over Time (Market Hours Only)')\n",
    "format_xaxis(ax)\n",
    "ax.legend()\n",
    "plt.show()\n"
   ]
  },
  {
   "cell_type": "code",
   "execution_count": null,
   "metadata": {},
   "outputs": [],
   "source": [
    "X = []\n",
    "y = []\n",
    "i = 0\n",
    "for h in range(10, 15):\n",
    "    for m in range(60):\n",
    "        s = str(m)\n",
    "        if len(s) == 1:\n",
    "            s = '0' + s\n",
    "        s = str(h) + ':' + s + ':59.999'\n",
    "        midprice = NTLS['Mid Price'].iloc[i]\n",
    "        bid_ask_ratio = np.log(NTLS['Bid Size'].iloc[i] / NTLS['Ask Size'].iloc[i])\n",
    "        while NTLS['Time'].iloc[i] <= s:\n",
    "            i += 1\n",
    "        X.append(bid_ask_ratio)\n",
    "        y.append(NTLS['Mid Price'].iloc[i] - midprice)\n",
    "        \n",
    "plt.scatter(X, y)\n",
    "a, b = np.polyfit(X, y, 1)\n",
    "plt.xlabel('log(Bid size/Ask size)')\n",
    "plt.ylabel('1m midprice change')\n",
    "plt.plot(X, [a*x+b for x in X], 'r')\n",
    "plt.show()\n",
    "\n",
    "print(f\"slope of line of best fit: {a}\")"
   ]
  },
  {
   "cell_type": "code",
   "execution_count": null,
   "metadata": {},
   "outputs": [],
   "source": [
    "X = []\n",
    "y = []\n",
    "i = 0\n",
    "for h in range(10, 15):\n",
    "    for m in range(60):\n",
    "        s = str(m)\n",
    "        if len(s) == 1:\n",
    "            s = '0' + s\n",
    "        s = str(h) + ':' + s + ':59.999'\n",
    "        weightedprice = NTLS['Size Weighted Price'].iloc[i]\n",
    "        bid_ask_ratio = np.log(NTLS['Bid Size'].iloc[i] / NTLS['Ask Size'].iloc[i])\n",
    "        while NTLS['Time'].iloc[i] <= s:\n",
    "            i += 1\n",
    "        X.append(bid_ask_ratio)\n",
    "        y.append(NTLS['Size Weighted Price'].iloc[i] - weightedprice)\n",
    "        \n",
    "plt.scatter(X, y)\n",
    "a, b = np.polyfit(X, y, 1)\n",
    "plt.xlabel('log(Bid size/Ask size)')\n",
    "plt.ylabel('1m size-weighted price change')\n",
    "plt.plot(X, [a*x+b for x in X], 'r')\n",
    "plt.show()\n",
    "\n",
    "print(f\"slope of line of best fit: {a}\")"
   ]
  },
  {
   "cell_type": "markdown",
   "metadata": {},
   "source": [
    "### Strategy\n",
    "Trade classification is a fundamental component of our Sign Trading with Order Flow Imbalance (OFI) strategy. Since WRDS TAQ data does not explicitly identify limit orders, we determine whether a trade was a BUY or SELL based on its execution relative to the prevailing bid-ask quotes.\n",
    "\n",
    "A trade is classified as a BUY if it occurs at or near the best ask price, indicating an aggressive market buy order. Conversely, a trade is classified as a SELL if it occurs at or near the best bid price, indicating an aggressive market sell order.\n",
    "\n",
    "Order Flow Imbalance (OFI) Calculation\n",
    "Order Flow Imbalance (OFI) measures the net BUY vs. SELL pressure over a time window h, where ΔN represents the number of trades executed:\n",
    "\n",
    "OFI = ΔNᵀ⁻ʰ,ᵀˢ - ΔNᵀ⁻ʰ,ᵀᵇ / (ΔNᵀ⁻ʰ,ᵀˢ + ΔNᵀ⁻ʰ,ᵀᵇ)\n",
    "​\n",
    " \n",
    "where:\n",
    "\n",
    "ΔNᵀ⁻ʰ,ᵀˢ = Number of SELL trades executed in the time window [T - h, T]\n",
    "ΔNᵀ⁻ʰ,ᵀᵇ = Number of BUY trades executed in the time window [T - h, T]\n",
    "A positive OFI indicates strong selling pressure, implying a higher probability of price declines, whereas a negative OFI signals strong buying pressure, suggesting upward price momentum."
   ]
  }
 ],
 "metadata": {
  "language_info": {
   "name": "python"
  }
 },
 "nbformat": 4,
 "nbformat_minor": 2
}
